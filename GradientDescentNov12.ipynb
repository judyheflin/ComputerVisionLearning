{
 "cells": [
  {
   "cell_type": "code",
   "execution_count": 1,
   "metadata": {},
   "outputs": [],
   "source": [
    "import numpy as np\n",
    "import math\n",
    "import matplotlib.pyplot as plt\n",
    "%matplotlib inline"
   ]
  },
  {
   "cell_type": "code",
   "execution_count": 2,
   "metadata": {},
   "outputs": [],
   "source": [
    "# objective functions from Gaurav + their derivatives\n",
    "f1 = lambda x: x ** 2\n",
    "df1 = lambda x: 2 * x\n",
    "\n",
    "f2 = lambda x: (x ** 2) + x\n",
    "df2 = lambda x: (2 * x) + 1"
   ]
  },
  {
   "cell_type": "code",
   "execution_count": 3,
   "metadata": {},
   "outputs": [],
   "source": [
    "# gradient descent, takes in initial value (start), number of epochs (epochs), \n",
    "# learning rate (lr), and gradient of objective function (df)\n",
    "def gradient_descent(start, epochs, lr, df):\n",
    "    x = start \n",
    "    steps = [x]\n",
    "    for i in range(epochs):\n",
    "        x = x - lr * (df(x))\n",
    "        steps.append(x)\n",
    "    print('At epoch ' + str(epochs) + ' x is ' + str(steps[-1]))\n",
    "    return steps"
   ]
  },
  {
   "cell_type": "code",
   "execution_count": 4,
   "metadata": {},
   "outputs": [
    {
     "name": "stdout",
     "output_type": "stream",
     "text": [
      "At epoch 50 x is 0.00014272476927059603\n"
     ]
    }
   ],
   "source": [
    "f1_test = gradient_descent(10, 50, 0.1, df1)"
   ]
  },
  {
   "cell_type": "code",
   "execution_count": 5,
   "metadata": {},
   "outputs": [
    {
     "data": {
      "text/plain": [
       "[10,\n",
       " 8.0,\n",
       " 6.4,\n",
       " 5.12,\n",
       " 4.096,\n",
       " 3.2768,\n",
       " 2.62144,\n",
       " 2.0971520000000003,\n",
       " 1.6777216000000004,\n",
       " 1.3421772800000003,\n",
       " 1.0737418240000003,\n",
       " 0.8589934592000003,\n",
       " 0.6871947673600002,\n",
       " 0.5497558138880001,\n",
       " 0.43980465111040007,\n",
       " 0.35184372088832006,\n",
       " 0.281474976710656,\n",
       " 0.22517998136852482,\n",
       " 0.18014398509481985,\n",
       " 0.14411518807585588,\n",
       " 0.11529215046068471,\n",
       " 0.09223372036854777,\n",
       " 0.07378697629483821,\n",
       " 0.05902958103587057,\n",
       " 0.04722366482869646,\n",
       " 0.037778931862957166,\n",
       " 0.030223145490365734,\n",
       " 0.024178516392292588,\n",
       " 0.01934281311383407,\n",
       " 0.015474250491067256,\n",
       " 0.012379400392853806,\n",
       " 0.009903520314283045,\n",
       " 0.007922816251426436,\n",
       " 0.006338253001141149,\n",
       " 0.00507060240091292,\n",
       " 0.0040564819207303355,\n",
       " 0.0032451855365842686,\n",
       " 0.002596148429267415,\n",
       " 0.002076918743413932,\n",
       " 0.0016615349947311456,\n",
       " 0.0013292279957849164,\n",
       " 0.001063382396627933,\n",
       " 0.0008507059173023465,\n",
       " 0.0006805647338418772,\n",
       " 0.0005444517870735017,\n",
       " 0.0004355614296588014,\n",
       " 0.0003484491437270411,\n",
       " 0.00027875931498163285,\n",
       " 0.00022300745198530628,\n",
       " 0.00017840596158824503,\n",
       " 0.00014272476927059603]"
      ]
     },
     "execution_count": 5,
     "metadata": {},
     "output_type": "execute_result"
    }
   ],
   "source": [
    "f1_test"
   ]
  },
  {
   "cell_type": "code",
   "execution_count": 6,
   "metadata": {},
   "outputs": [],
   "source": [
    "def visualize(f, start, lr, steps):\n",
    "    # plot objective function and steps\n",
    "    chart_size = max(abs(min(steps)), abs(max(steps)), start)\n",
    "    obj_func = np.arange(-chart_size, chart_size, lr)\n",
    "    plt.plot(obj_func, [f(x) for x in obj_func])\n",
    "    plt.plot(steps, [f(x) for x in steps], '-o')\n",
    "    #labels\n",
    "    plt.xlabel('x') \n",
    "    plt.ylabel('f(x)') \n",
    "    plt.title('Gradient Descent') \n",
    "    plt.show() "
   ]
  },
  {
   "cell_type": "code",
   "execution_count": 7,
   "metadata": {},
   "outputs": [
    {
     "name": "stdout",
     "output_type": "stream",
     "text": [
      "At epoch 30 x is 0.012379400392853806\n"
     ]
    },
    {
     "data": {
      "image/png": "[encoded data removed]",
      "text/plain": [
       "<Figure size 432x288 with 1 Axes>"
      ]
     },
     "metadata": {
      "needs_background": "light"
     },
     "output_type": "display_data"
    }
   ],
   "source": [
    "# Objective Function 1: f(x) = x ** 2\n",
    "# initial value = 10\n",
    "# epochs = 30\n",
    "# learning rate = 0.1\n",
    "f1_min = gradient_descent(10, 30, 0.1, df1)\n",
    "visualize(f1, 10, 0.1, f1_min)\n",
    "# converging toward 0"
   ]
  },
  {
   "cell_type": "code",
   "execution_count": 8,
   "metadata": {
    "scrolled": false
   },
   "outputs": [
    {
     "name": "stdout",
     "output_type": "stream",
     "text": [
      "At epoch 30 x is -0.4956672098625011\n"
     ]
    },
    {
     "data": {
      "image/png": "[encoded data removed]",
      "text/plain": [
       "<Figure size 432x288 with 1 Axes>"
      ]
     },
     "metadata": {
      "needs_background": "light"
     },
     "output_type": "display_data"
    }
   ],
   "source": [
    "# Objective Function 2: f(x) = (x ** 2) + x\n",
    "# initial value = 3\n",
    "# epochs = 30\n",
    "# learning rate = 0.1\n",
    "f2_min = gradient_descent(3, 30, 0.1, df2)\n",
    "visualize(f2, 3, 0.1, f2_min)\n",
    "# converging toward -0.5"
   ]
  },
  {
   "cell_type": "code",
   "execution_count": null,
   "metadata": {},
   "outputs": [],
   "source": []
  }
 ],
 "metadata": {
  "kernelspec": {
   "display_name": "Python 3",
   "language": "python",
   "name": "python3"
  },
  "language_info": {
   "codemirror_mode": {
    "name": "ipython",
    "version": 3
   },
   "file_extension": ".py",
   "mimetype": "text/x-python",
   "name": "python",
   "nbconvert_exporter": "python",
   "pygments_lexer": "ipython3",
   "version": "3.7.3"
  }
 },
 "nbformat": 4,
 "nbformat_minor": 2
}
